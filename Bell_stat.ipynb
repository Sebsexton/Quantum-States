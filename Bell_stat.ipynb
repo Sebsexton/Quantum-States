{
  "nbformat": 4,
  "nbformat_minor": 0,
  "metadata": {
    "colab": {
      "provenance": [],
      "authorship_tag": "ABX9TyPmmhPZ1d+dz7amhM/lJ6sl",
      "include_colab_link": true
    },
    "kernelspec": {
      "name": "python3",
      "display_name": "Python 3"
    },
    "language_info": {
      "name": "python"
    }
  },
  "cells": [
    {
      "cell_type": "markdown",
      "metadata": {
        "id": "view-in-github",
        "colab_type": "text"
      },
      "source": [
        "<a href=\"https://colab.research.google.com/github/Sebsexton/Quantum-States/blob/main/Bell_stat.ipynb\" target=\"_parent\"><img src=\"https://colab.research.google.com/assets/colab-badge.svg\" alt=\"Open In Colab\"/></a>"
      ]
    },
    {
      "cell_type": "code",
      "metadata": {
        "id": "a25ae36b"
      },
      "source": [
        "!pip install pylatexenc"
      ],
      "execution_count": null,
      "outputs": []
    },
    {
      "cell_type": "code",
      "execution_count": null,
      "metadata": {
        "id": "fNXvsnzq8s1v"
      },
      "outputs": [],
      "source": [
        "!pip install qiskit qiskit-aer\n",
        "\n",
        "from qiskit import QuantumCircuit\n",
        "from qiskit_aer import AerSimulator\n",
        "from qiskit.quantum_info import Statevector\n",
        "from qiskit.visualization import plot_histogram, plot_bloch_multivector\n",
        "import matplotlib.pyplot as plt\n"
      ]
    },
    {
      "cell_type": "code",
      "source": [
        "qc = QuantumCircuit(2)\n",
        "qc.h(0)\n",
        "qc.cx(0, 1)\n",
        "\n",
        "qc.draw(\"text\")\n",
        "\n"
      ],
      "metadata": {
        "id": "N0YUZydZ9rR_"
      },
      "execution_count": null,
      "outputs": []
    },
    {
      "cell_type": "code",
      "source": [
        "state = Statevector.from_instruction(qc)\n",
        "print(state)\n",
        "\n",
        "plot_bloch_multivector(state)\n"
      ],
      "metadata": {
        "id": "_zppPmPb9xCh"
      },
      "execution_count": null,
      "outputs": []
    },
    {
      "cell_type": "code",
      "source": [
        "qc_measure = qc.copy()\n",
        "qc_measure.measure_all()\n",
        "\n",
        "sim = AerSimulator()\n",
        "result = sim.run(qc_measure, shots=1024).result()\n",
        "counts = result.get_counts()\n",
        "\n",
        "plot_histogram(counts)\n"
      ],
      "metadata": {
        "id": "EHBeA6uj90e3"
      },
      "execution_count": null,
      "outputs": []
    }
  ]
}